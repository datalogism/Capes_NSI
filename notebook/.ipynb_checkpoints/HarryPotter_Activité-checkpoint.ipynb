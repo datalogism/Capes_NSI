{
 "cells": [
  {
   "cell_type": "markdown",
   "metadata": {},
   "source": [
    "# Activité pédagogique : Le réseaux d'Harry Potter \n",
    "## Partie 1 :  Analyse des personnages"
   ]
  },
  {
   "cell_type": "markdown",
   "metadata": {},
   "source": [
    "### 1.1. Ouverture du fichier\n",
    "\n",
    "Ouvrir le fichier avec la fonction *DictReader* de la librairie *csv*, enregistrer cela dans un tableau nommé *persDetails*"
   ]
  },
  {
   "cell_type": "code",
   "execution_count": 1,
   "metadata": {},
   "outputs": [],
   "source": [
    "import csv\n",
    "\n",
    "f_name = \"../data/perso_list_with_desc_clean.csv\"\n",
    "file = open(f_name,encoding=\"utf-8\")\n",
    "persDetails = list(csv.DictReader(file,delimiter=\";\"))"
   ]
  },
  {
   "cell_type": "markdown",
   "metadata": {},
   "source": [
    "### 1.2. Description du fichier\n",
    "- Afficher le nombre de personnages extraits des 7 tomes de l'aventure d'Harry Potter, ainsi que le nom des différentes collones de ce tableau"
   ]
  },
  {
   "cell_type": "code",
   "execution_count": 2,
   "metadata": {},
   "outputs": [
    {
     "name": "stdout",
     "output_type": "stream",
     "text": [
      "254\n"
     ]
    }
   ],
   "source": [
    "print(len(persDetails))"
   ]
  },
  {
   "cell_type": "markdown",
   "metadata": {},
   "source": [
    "### 1.3. Affichage des clef du dictionnaire"
   ]
  },
  {
   "cell_type": "code",
   "execution_count": 3,
   "metadata": {},
   "outputs": [
    {
     "data": {
      "text/plain": [
       "odict_keys(['\\ufeffId', 'Nom', 'Maison', 'type', 'nb_occ'])"
      ]
     },
     "execution_count": 3,
     "metadata": {},
     "output_type": "execute_result"
    }
   ],
   "source": [
    "persDetails[0].keys()"
   ]
  },
  {
   "cell_type": "markdown",
   "metadata": {},
   "source": [
    "### 1.4. Type de données du dictionnaire"
   ]
  },
  {
   "cell_type": "code",
   "execution_count": 4,
   "metadata": {},
   "outputs": [
    {
     "name": "stdout",
     "output_type": "stream",
     "text": [
      "[{'\\ufeffId': <class 'str'>}, {'Nom': <class 'str'>}, {'Maison': <class 'str'>}, {'type': <class 'str'>}, {'nb_occ': <class 'str'>}]\n"
     ]
    }
   ],
   "source": [
    "print([{k:type(persDetails[0][k])} for k in persDetails[0].keys()])"
   ]
  },
  {
   "cell_type": "markdown",
   "metadata": {},
   "source": [
    "### 1.5. Tri du tableau\n",
    "- Créé un nouveau tableau à l'aide de la fonction *sorted*, afin de trier les données en fonction du nombre d'apparitions (nb_occ) décroissant de chaque personnage "
   ]
  },
  {
   "cell_type": "code",
   "execution_count": 5,
   "metadata": {},
   "outputs": [],
   "source": [
    "newlist = sorted(persDetails, key=lambda k: int(k['nb_occ']), reverse=True) "
   ]
  },
  {
   "cell_type": "markdown",
   "metadata": {},
   "source": [
    "### 1.6.  Affichage des personnages principaux "
   ]
  },
  {
   "cell_type": "code",
   "execution_count": 6,
   "metadata": {},
   "outputs": [
    {
     "name": "stdout",
     "output_type": "stream",
     "text": [
      "Harry Potter : 15429\n",
      "Ron Weasley : 5656\n",
      "Hermione Granger : 4897\n",
      "Albus Dumbledore : 2896\n",
      "Hagrid : 1758\n",
      "Severus Snape : 1578\n",
      "Voldemort : 1393\n",
      "Draco Malfoy : 1381\n",
      "Sirius Black : 970\n",
      "Fred Weasley : 864\n",
      "George Weasley : 739\n",
      "Ginny : 709\n",
      "McGonagall : 701\n",
      "Neville Longbottom : 672\n",
      "Vernon Dursley : 452\n",
      "Cornelius Fudge : 449\n",
      "Moody : 436\n",
      "Young Percy : 381\n",
      "Don : 364\n",
      "Dudley Dursley : 327\n"
     ]
    }
   ],
   "source": [
    "for i in range(20):\n",
    "    print(newlist[i][\"Nom\"],\":\",newlist[i][\"nb_occ\"])"
   ]
  },
  {
   "cell_type": "markdown",
   "metadata": {},
   "source": [
    "### 1.7. Création d'une fonction d'aggrégations\n",
    "Créer une fonction nommée *describe* qui :\n",
    "- prend en entrée un tableau de dictionnaire, une colonne descriptive (une clef)\n",
    "- qui compte pour chaque caractéristique de cette colonne le nombre de personnage\n",
    "- et qui renvoi une dictionnaire (caractéristique, nombre personnages)"
   ]
  },
  {
   "cell_type": "code",
   "execution_count": 7,
   "metadata": {},
   "outputs": [],
   "source": [
    "def describe(tab,key):\n",
    "    nb_by_type = {}\n",
    "    for row in tab:\n",
    "        if(row[key] not in nb_by_type.keys()):\n",
    "            nb_by_type[row[key]] = 1\n",
    "        else:\n",
    "            nb_by_type[row[key]] += 1\n",
    "    return nb_by_type"
   ]
  },
  {
   "cell_type": "markdown",
   "metadata": {},
   "source": [
    "### 1.8. Utilisation de la fonction *describe*\n",
    "- décrire le nombre de personnage par maison"
   ]
  },
  {
   "cell_type": "code",
   "execution_count": 8,
   "metadata": {},
   "outputs": [
    {
     "data": {
      "text/plain": [
       "{'Gryffondor': 40,\n",
       " 'Serpentard': 25,\n",
       " '': 153,\n",
       " 'Serdaigle': 23,\n",
       " 'Poufsouffle': 13}"
      ]
     },
     "execution_count": 8,
     "metadata": {},
     "output_type": "execute_result"
    }
   ],
   "source": [
    "describe(persDetails,'Maison')"
   ]
  },
  {
   "cell_type": "markdown",
   "metadata": {},
   "source": [
    "- Faites de même avec le type de personnage"
   ]
  },
  {
   "cell_type": "code",
   "execution_count": 9,
   "metadata": {},
   "outputs": [
    {
     "data": {
      "text/plain": [
       "{'': 98, 'sorcier': 121, 'moldu': 17, 'creature': 18}"
      ]
     },
     "execution_count": 9,
     "metadata": {},
     "output_type": "execute_result"
    }
   ],
   "source": [
    "describe(persDetails,'type')"
   ]
  },
  {
   "cell_type": "markdown",
   "metadata": {},
   "source": [
    "### 1.9. Création d'un dictionnaire\n",
    "- On créé un dictionnaire permettant d'acceder directement aux informations d'un personnage à travers son Id"
   ]
  },
  {
   "cell_type": "code",
   "execution_count": 10,
   "metadata": {},
   "outputs": [],
   "source": [
    "id_pers={}\n",
    "for pers in persDetails:\n",
    "    id_pers[pers['\\ufeffId']]=pers "
   ]
  },
  {
   "cell_type": "markdown",
   "metadata": {},
   "source": [
    "## Partie 2 : Le réseaux des sorciers"
   ]
  },
  {
   "cell_type": "markdown",
   "metadata": {},
   "source": [
    "### 2.1. Chargement du fichier et de networkx"
   ]
  },
  {
   "cell_type": "markdown",
   "metadata": {},
   "source": [
    "- Chargement de la librairie et du fichier"
   ]
  },
  {
   "cell_type": "code",
   "execution_count": 11,
   "metadata": {},
   "outputs": [],
   "source": [
    "import networkx as nx\n",
    "import matplotlib.pyplot as plt\n",
    "import csv\n",
    "\n",
    "f_name = \"../data/edges.csv\"\n",
    "file = open(f_name)\n",
    "edges= list(csv.DictReader(file,delimiter=\";\"))\n"
   ]
  },
  {
   "cell_type": "markdown",
   "metadata": {},
   "source": [
    "### 2.2. Création de la fonction getColor"
   ]
  },
  {
   "cell_type": "markdown",
   "metadata": {},
   "source": [
    "- Retourne :\n",
    "    * par défaut la couleur est \"grey\"\n",
    "    * si le personnage est un sorcier alors la couleur est noire\n",
    "    * si la maison du personnage est Serpentard alors la couleur est verte\n",
    "    * si la maison du personnage est Gryffondor alors la couleur est jaune\n",
    "    * si la maison du personnage est Poufsouffle alors la couleur est rouge\n",
    "    * si la maison du personnage est Serdaigle alors la couleur est bleue"
   ]
  },
  {
   "cell_type": "code",
   "execution_count": 12,
   "metadata": {},
   "outputs": [],
   "source": [
    "def getColor(pers):\n",
    "    color=\"grey\"\n",
    "    if(pers[\"type\"]==\"sorcier\"):\n",
    "        color=\"black\"\n",
    "    if(pers[\"Maison\"]==\"Serpentard\"):\n",
    "        color=\"green\"\n",
    "    if(pers[\"Maison\"]==\"Gryffondor\"):\n",
    "        color=\"red\"\n",
    "    if(pers[\"Maison\"]==\"Poufsouffle\"):\n",
    "        color=\"yellow\"\n",
    "    if(pers[\"Maison\"]==\"Serdaigle\"):\n",
    "        color=\"blue\"\n",
    "    return color"
   ]
  },
  {
   "cell_type": "markdown",
   "metadata": {},
   "source": [
    "- testez la fonction getColor sur Harry Potter dont l'Id est 44 "
   ]
  },
  {
   "cell_type": "code",
   "execution_count": 13,
   "metadata": {},
   "outputs": [
    {
     "data": {
      "text/plain": [
       "'red'"
      ]
     },
     "execution_count": 13,
     "metadata": {},
     "output_type": "execute_result"
    }
   ],
   "source": [
    "getColor(id_pers['44'])"
   ]
  },
  {
   "cell_type": "markdown",
   "metadata": {},
   "source": [
    "### 2.3. Implémentation du graphe networkx"
   ]
  },
  {
   "cell_type": "code",
   "execution_count": 14,
   "metadata": {},
   "outputs": [],
   "source": [
    "color_map = []\n",
    "G = nx.Graph()\n",
    "      \n",
    "for id_ in id_pers.keys():\n",
    "    #if(id_ in list_ok):\n",
    "        G.add_node(id_pers[id_][\"Nom\"])\n",
    "        color_map.append(getColor(id_pers[id_]))\n",
    "for edge in edges:\n",
    "    #if(int(edge[\"value\"])>1):\n",
    "        #if(edge[\"from\"] in list_ok and edge[\"to\"] in list_ok):\n",
    "            #G.add_edge(str(edge[\"from\"]), str(edge[\"to\"]))\n",
    "            G.add_edge(id_pers[str(edge[\"from\"])][\"Nom\"],id_pers[str(edge[\"to\"])][\"Nom\"])\n"
   ]
  },
  {
   "cell_type": "markdown",
   "metadata": {},
   "source": [
    "### 2.5. Affichage du graphe"
   ]
  },
  {
   "cell_type": "code",
   "execution_count": 15,
   "metadata": {},
   "outputs": [
    {
     "data": {
      "image/png": "[encoded data removed]",
      "text/plain": [
       "<Figure size 432x288 with 1 Axes>"
      ]
     },
     "metadata": {},
     "output_type": "display_data"
    }
   ],
   "source": [
    "# Cette fonction optimise le placement des points du graphe pour l'affichage\n",
    "pos = nx.spring_layout(G)  # positions for all nodes\n",
    "# Cette commande affiche le réseau   \n",
    "nx.draw_kamada_kawai(G,node_size=20,edge_color=\"grey\",node_color=color_map, width=1)\n"
   ]
  },
  {
   "cell_type": "markdown",
   "metadata": {},
   "source": [
    "## Partie III : Quelques caractéristiques du réseau de sorciers"
   ]
  },
  {
   "cell_type": "markdown",
   "metadata": {},
   "source": [
    "### 3.1. Calcul de la centralité degré des points du graphe"
   ]
  },
  {
   "cell_type": "code",
   "execution_count": 16,
   "metadata": {},
   "outputs": [],
   "source": [
    "centrality=nx.degree_centrality(G)"
   ]
  },
  {
   "cell_type": "markdown",
   "metadata": {},
   "source": [
    "### 3.2. Affichage des 6 personnages centraux du graphe"
   ]
  },
  {
   "cell_type": "code",
   "execution_count": 17,
   "metadata": {},
   "outputs": [
    {
     "name": "stdout",
     "output_type": "stream",
     "text": [
      "Harry Potter : 0.992094861660079\n",
      "Ron Weasley : 0.924901185770751\n",
      "Hermione Granger : 0.8893280632411067\n",
      "Albus Dumbledore : 0.8418972332015809\n",
      "Hagrid : 0.8063241106719367\n",
      "Severus Snape : 0.7549407114624506\n"
     ]
    }
   ],
   "source": [
    "for name in list(centrality)[:6]:\n",
    "    print(name, ':',centrality[name])"
   ]
  },
  {
   "cell_type": "markdown",
   "metadata": {},
   "source": [
    "### 3.3. Diamètre du graphe"
   ]
  },
  {
   "cell_type": "code",
   "execution_count": 18,
   "metadata": {},
   "outputs": [
    {
     "name": "stdout",
     "output_type": "stream",
     "text": [
      "3\n"
     ]
    }
   ],
   "source": [
    "diameter=nx.diameter(G)\n",
    "print(diameter)"
   ]
  },
  {
   "cell_type": "markdown",
   "metadata": {},
   "source": [
    "### 3.4. Degrés de séparations"
   ]
  },
  {
   "cell_type": "markdown",
   "metadata": {},
   "source": [
    "- Calculez le degré de séparation moyen entre chaque personnage dans ce réseau\n",
    "- Comparez le à celui de Facebook et de twitter\n",
    "- Que pouvez vous en dire vis à vis de la théorie de Millgram ?"
   ]
  },
  {
   "cell_type": "code",
   "execution_count": 19,
   "metadata": {
    "scrolled": true
   },
   "outputs": [
    {
     "name": "stdout",
     "output_type": "stream",
     "text": [
      "1.765895863807538\n"
     ]
    }
   ],
   "source": [
    "from hp_lib import degree_of_separation\n",
    "\n",
    "d=degree_of_separation(G)\n",
    "print(d)"
   ]
  },
  {
   "cell_type": "markdown",
   "metadata": {},
   "source": [
    "- Que pouvez vous dire de ce réseaux ?"
   ]
  },
  {
   "cell_type": "markdown",
   "metadata": {},
   "source": [
    "## Partie IV : algorithme d’apprentissage du Choixpeau"
   ]
  },
  {
   "cell_type": "markdown",
   "metadata": {},
   "source": [
    "### 4.1. Filtrer\n",
    "\n",
    "- Créer une liste ne contenant que les id des personnages ayant une maison définies et apparaissant au moins 5 fois dans la saga\n",
    "- Donner le nombre de sorciers obtenus"
   ]
  },
  {
   "cell_type": "code",
   "execution_count": 20,
   "metadata": {},
   "outputs": [],
   "source": [
    "pers_ok=[pers['\\ufeffId'] for pers in persDetails if (pers[\"Maison\"]!=None and pers[\"Maison\"]!=\"\") and int(pers[\"nb_occ\"])>5 ]\n"
   ]
  },
  {
   "cell_type": "code",
   "execution_count": 21,
   "metadata": {},
   "outputs": [
    {
     "data": {
      "text/plain": [
       "84"
      ]
     },
     "execution_count": 21,
     "metadata": {},
     "output_type": "execute_result"
    }
   ],
   "source": [
    "len(pers_ok)"
   ]
  },
  {
   "cell_type": "markdown",
   "metadata": {},
   "source": [
    "### 4.2. Création d'une matrice d'adjacence\n",
    "- Nous allons maintenant transformer notre liste de lien *edges* en matrice d'adjacence que l'on appelera *matrix*. Celle-ci sera symétrique car notre graphe n'est pas dirigé. Ce tableau de tableau de taille *NxN*, où *N* nombre de personnages, et où *matrix[i][j]* indique l'intensité de la relation."
   ]
  },
  {
   "cell_type": "code",
   "execution_count": 23,
   "metadata": {
    "scrolled": false
   },
   "outputs": [],
   "source": [
    "matrix=[[0]*len(pers_ok) for i in range(len(pers_ok))]\n"
   ]
  },
  {
   "cell_type": "markdown",
   "metadata": {},
   "source": [
    "## 4.3. Modification des valeurs de *matrix*"
   ]
  },
  {
   "cell_type": "code",
   "execution_count": 24,
   "metadata": {},
   "outputs": [],
   "source": [
    "for e in edges :\n",
    "    if(str(e[\"to\"]) in pers_ok and str(e[\"from\"]) in pers_ok):\n",
    "        idx_to=pers_ok.index(str(e[\"to\"]))\n",
    "        idx_from=pers_ok.index(str(e[\"from\"]))\n",
    "        matrix[idx_to][idx_from]=float('.'.join(e[\"value\"].split(\",\")))\n",
    "        matrix[idx_from][idx_to]=float('.'.join(e[\"value\"].split(\",\")))"
   ]
  },
  {
   "cell_type": "markdown",
   "metadata": {},
   "source": [
    "### 4.4. Chargement de scikit-learn"
   ]
  },
  {
   "cell_type": "code",
   "execution_count": 25,
   "metadata": {},
   "outputs": [],
   "source": [
    "from sklearn.neighbors import KNeighborsClassifier\n",
    "from sklearn.model_selection import train_test_split\n",
    "from sklearn.metrics import classification_report\n"
   ]
  },
  {
   "cell_type": "markdown",
   "metadata": {},
   "source": [
    "### 4.5. Création de X et Y : données formatées pour l'apprentissage"
   ]
  },
  {
   "cell_type": "code",
   "execution_count": 27,
   "metadata": {},
   "outputs": [],
   "source": [
    "X=matrix\n",
    "y=[id_pers[id_][\"Maison\"] for id_ in pers_ok]"
   ]
  },
  {
   "cell_type": "markdown",
   "metadata": {},
   "source": [
    "## 4.6. Découpage du jeux de données"
   ]
  },
  {
   "cell_type": "code",
   "execution_count": 31,
   "metadata": {},
   "outputs": [],
   "source": [
    "X_train, X_test, y_train, y_test = train_test_split(X, y, test_size=0.3, random_state=4)"
   ]
  },
  {
   "cell_type": "markdown",
   "metadata": {},
   "source": [
    "## 4.7. Implémentation du modèle"
   ]
  },
  {
   "cell_type": "code",
   "execution_count": 32,
   "metadata": {},
   "outputs": [
    {
     "data": {
      "text/plain": [
       "KNeighborsClassifier(n_neighbors=3)"
      ]
     },
     "execution_count": 32,
     "metadata": {},
     "output_type": "execute_result"
    }
   ],
   "source": [
    "neigh = KNeighborsClassifier(n_neighbors=3)\n",
    "neigh.fit(X_train, y_train)\n"
   ]
  },
  {
   "cell_type": "markdown",
   "metadata": {},
   "source": [
    "## 4.8 Tester le modèle"
   ]
  },
  {
   "cell_type": "markdown",
   "metadata": {},
   "source": [
    "- liste des prédictions obtenues sur *X_test*"
   ]
  },
  {
   "cell_type": "code",
   "execution_count": 34,
   "metadata": {},
   "outputs": [],
   "source": [
    "y_pred=neigh.predict(X_test)"
   ]
  },
  {
   "cell_type": "markdown",
   "metadata": {},
   "source": [
    "## 4.9. Rapport de classification"
   ]
  },
  {
   "cell_type": "code",
   "execution_count": 35,
   "metadata": {},
   "outputs": [
    {
     "name": "stdout",
     "output_type": "stream",
     "text": [
      "              precision    recall  f1-score   support\n",
      "\n",
      "  Gryffondor       0.41      0.88      0.56         8\n",
      " Poufsouffle       0.50      0.33      0.40         3\n",
      "   Serdaigle       0.67      0.25      0.36         8\n",
      "  Serpentard       0.25      0.14      0.18         7\n",
      "\n",
      "    accuracy                           0.42        26\n",
      "   macro avg       0.46      0.40      0.38        26\n",
      "weighted avg       0.46      0.42      0.38        26\n",
      "\n"
     ]
    }
   ],
   "source": [
    "print(classification_report(y_test, y_pred))"
   ]
  },
  {
   "cell_type": "markdown",
   "metadata": {},
   "source": [
    "## 4.10. Prévoir la maison de nouveaux sorciers"
   ]
  },
  {
   "cell_type": "markdown",
   "metadata": {},
   "source": [
    "- Fonction permettant de prédire la maison d'un personnage donnée"
   ]
  },
  {
   "cell_type": "code",
   "execution_count": 87,
   "metadata": {},
   "outputs": [],
   "source": [
    "def predict_wizard(p):\n",
    "    new=[0]*len(pers_ok)\n",
    "    for e in edges :\n",
    "        if(str(e[\"to\"])==p and str(e[\"from\"]) in pers_ok):\n",
    "            idx_from=pers_ok.index(str(e[\"from\"]))\n",
    "            new[idx_from]=float('.'.join(e[\"value\"].split(\",\")))\n",
    "        if(str(e[\"from\"])==p and str(e[\"to\"]) in pers_ok):\n",
    "            idx_to=pers_ok.index(str(e[\"to\"]))\n",
    "            new[idx_to]=float('.'.join(e[\"value\"].split(\",\")))\n",
    "    return neigh.predict([new]) "
   ]
  },
  {
   "cell_type": "markdown",
   "metadata": {},
   "source": [
    "- pour prévoir la maison de tout les sorciers n'ayant pas de maison"
   ]
  },
  {
   "cell_type": "code",
   "execution_count": 82,
   "metadata": {},
   "outputs": [],
   "source": [
    "# pers_to_classify=[pers['\\ufeffId'] for pers in persDetails if (pers[\"Maison\"]==None or pers[\"Maison\"]==\"\") ]  \n"
   ]
  },
  {
   "cell_type": "markdown",
   "metadata": {},
   "source": [
    "- pour classifier *Dudley Dursley*, *Dobby*,*Viktor Krum*, *Quirrell* et *Antonin Dolohov*"
   ]
  },
  {
   "cell_type": "code",
   "execution_count": 91,
   "metadata": {},
   "outputs": [
    {
     "name": "stdout",
     "output_type": "stream",
     "text": [
      "['24', '106', '194', '78', '157']\n"
     ]
    }
   ],
   "source": [
    "pers_names=[\"Dudley Dursley\",\"Dobby\",'Viktor Krum', 'Quirrell','Antonin Dolohov']\n",
    "pers_to_classify=[ k for k in id_pers.keys() if id_pers[k][\"Nom\"] in pers_names]\n",
    "print(pers_to_classify)"
   ]
  },
  {
   "cell_type": "markdown",
   "metadata": {},
   "source": [
    "- Utilisation de la fonction et prévision des maisons"
   ]
  },
  {
   "cell_type": "code",
   "execution_count": 92,
   "metadata": {},
   "outputs": [
    {
     "name": "stdout",
     "output_type": "stream",
     "text": [
      "Dudley Dursley\n",
      "['Gryffondor']\n",
      "Dobby\n",
      "['Gryffondor']\n",
      "Viktor Krum\n",
      "['Gryffondor']\n",
      "Quirrell\n",
      "['Poufsouffle']\n",
      "Antonin Dolohov\n",
      "['Serdaigle']\n"
     ]
    }
   ],
   "source": [
    "for p in pers_to_classify:    \n",
    "    print(id_pers[p][\"Nom\"])\n",
    "    print(predict_wizard(p))\n"
   ]
  }
 ],
 "metadata": {
  "kernelspec": {
   "display_name": "Python 3",
   "language": "python",
   "name": "python3"
  },
  "language_info": {
   "codemirror_mode": {
    "name": "ipython",
    "version": 3
   },
   "file_extension": ".py",
   "mimetype": "text/x-python",
   "name": "python",
   "nbconvert_exporter": "python",
   "pygments_lexer": "ipython3",
   "version": "3.7.0"
  }
 },
 "nbformat": 4,
 "nbformat_minor": 4
}
